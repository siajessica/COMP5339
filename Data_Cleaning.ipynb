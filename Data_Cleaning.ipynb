{
  "nbformat": 4,
  "nbformat_minor": 0,
  "metadata": {
    "colab": {
      "provenance": [],
      "toc_visible": true
    },
    "kernelspec": {
      "name": "python3",
      "display_name": "Python 3"
    },
    "language_info": {
      "name": "python"
    }
  },
  "cells": [
    {
      "cell_type": "code",
      "execution_count": 1,
      "metadata": {
        "id": "jVtj_DpLAFAZ"
      },
      "outputs": [],
      "source": [
        "import os\n",
        "import pandas as pd\n",
        "import numpy\n",
        "import csv\n",
        "import requests\n",
        "from bs4 import BeautifulSoup\n",
        "import re\n",
        "## openpyxl-3.1.5"
      ]
    },
    {
      "cell_type": "code",
      "source": [
        "!pip install openpyxl"
      ],
      "metadata": {
        "colab": {
          "base_uri": "https://localhost:8080/"
        },
        "id": "laH2nWvuAWsW",
        "outputId": "d479318d-bc02-49cf-e394-cf7b3dbd74de"
      },
      "execution_count": 2,
      "outputs": [
        {
          "output_type": "stream",
          "name": "stdout",
          "text": [
            "Requirement already satisfied: openpyxl in /usr/local/lib/python3.11/dist-packages (3.1.5)\n",
            "Requirement already satisfied: et-xmlfile in /usr/local/lib/python3.11/dist-packages (from openpyxl) (2.0.0)\n"
          ]
        }
      ]
    },
    {
      "cell_type": "code",
      "source": [
        "def scraper(url=\"https://data.nsw.gov.au/data/dataset/fuel-check\"):\n",
        "    download_links = []\n",
        "    try:\n",
        "        response = requests.get(url)\n",
        "        response.raise_for_status()\n",
        "        soup = BeautifulSoup(response.content, \"html.parser\")\n",
        "\n",
        "        for link in soup.find_all(\"a\", href=True):\n",
        "            href = link[\"href\"]\n",
        "            if href and (href.endswith(\".csv\") or href.endswith(\".xlsx\")) and (\"24.\" in href or \"25.\" in href):\n",
        "                download_links.append(href)\n",
        "        if download_links:\n",
        "            print(\"Download links found (2024 or 2025):\")\n",
        "            for link in download_links:\n",
        "                print(link)\n",
        "        else:\n",
        "            print(\"Not found\")\n",
        "    except requests.exceptions.RequestException as e:\n",
        "        print(f\"Error fetching URL: {e}\")\n",
        "    except Exception as e:\n",
        "        print(f\"Error: {e}\")\n",
        "    return download_links\n",
        "\n",
        "def combine(download_links):\n",
        "    dataframes = []\n",
        "    for url in download_links:\n",
        "        if url.endswith(\".xlsx\"):\n",
        "            df = pd.read_excel(url, engine=\"openpyxl\")\n",
        "        elif url.endswith(\".csv\"):\n",
        "            df = pd.read_csv(url)\n",
        "        else:\n",
        "            continue\n",
        "        dataframes.append(df)\n",
        "    return dataframes\n",
        "    final_df = pd.concat(dataframes, ignore_index=True)\n",
        "    return final_df\n",
        "\n",
        "def save(dataframes, loc='./final.csv'):\n",
        "  #pd.concat(dataframes, ignore_index=True).to_csv(index=False)\n",
        "  dataframes.to_csv(loc, sep='\\t', encoding='utf-8', index=False, header=True)"
      ],
      "metadata": {
        "id": "GNnyfumCANlA"
      },
      "execution_count": 3,
      "outputs": []
    },
    {
      "cell_type": "code",
      "source": [
        "df = combine(scraper())"
      ],
      "metadata": {
        "colab": {
          "base_uri": "https://localhost:8080/"
        },
        "id": "GFTecFGeAQef",
        "outputId": "1ac11f14-e85e-4cf2-86db-796a7e319d7a"
      },
      "execution_count": 4,
      "outputs": [
        {
          "output_type": "stream",
          "name": "stdout",
          "text": [
            "Download links found (2024 or 2025):\n",
            "https://data.nsw.gov.au/data/dataset/a97a46fc-2bdd-4b90-ac7f-0cb1e8d7ac3b/resource/2d785043-38eb-4eeb-b992-89f1af8d91e1/download/fuelcheck_pricehistory_jan2024.xlsx\n",
            "https://data.nsw.gov.au/data/dataset/a97a46fc-2bdd-4b90-ac7f-0cb1e8d7ac3b/resource/404dcdf6-bbde-4ccf-869e-259bcc408ce5/download/fuelcheck_pricehistory_feb2024.xlsx\n",
            "https://data.nsw.gov.au/data/dataset/a97a46fc-2bdd-4b90-ac7f-0cb1e8d7ac3b/resource/8c461685-3ed2-47e0-b9e6-9737c58a21bf/download/fuelcheck_pricehistory_mar2024.xlsx\n",
            "https://data.nsw.gov.au/data/dataset/a97a46fc-2bdd-4b90-ac7f-0cb1e8d7ac3b/resource/56a4fdb5-0789-4a2f-a89f-18e0159e210f/download/fuelcheck_pricehistory_apr2024.xlsx\n",
            "https://data.nsw.gov.au/data/dataset/a97a46fc-2bdd-4b90-ac7f-0cb1e8d7ac3b/resource/f70eb8e4-7291-47c8-874c-daea7eda0df1/download/fuelcheck_pricehistory_may2024.xlsx\n",
            "https://data.nsw.gov.au/data/dataset/a97a46fc-2bdd-4b90-ac7f-0cb1e8d7ac3b/resource/7c6e7325-95ff-409e-becf-ffb45ad5271b/download/fuelcheck_pricehistory_jun2024.xlsx\n",
            "https://data.nsw.gov.au/data/dataset/a97a46fc-2bdd-4b90-ac7f-0cb1e8d7ac3b/resource/8fd1a016-6156-417e-8a15-339467e4341c/download/price_history_checks_jul2024.csv\n",
            "https://data.nsw.gov.au/data/dataset/a97a46fc-2bdd-4b90-ac7f-0cb1e8d7ac3b/resource/7c0703f5-769d-4ec6-9b8a-d563b6c13d73/download/fuelcheck_pricehistory_aug2024.xlsx\n",
            "https://data.nsw.gov.au/data/dataset/a97a46fc-2bdd-4b90-ac7f-0cb1e8d7ac3b/resource/c83f0f7e-cae0-41b4-82a2-b4a2e01e15c9/download/fuelcheck_pricehistory_sep2024.xlsx\n",
            "https://data.nsw.gov.au/data/dataset/a97a46fc-2bdd-4b90-ac7f-0cb1e8d7ac3b/resource/e4599b20-686b-4668-bf6d-da0c2852183f/download/price_history_checks_oct2024.csv\n",
            "https://data.nsw.gov.au/data/dataset/a97a46fc-2bdd-4b90-ac7f-0cb1e8d7ac3b/resource/44b9a701-20cb-44bd-a47a-85877070c5ab/download/fuelcheck_pricehistory_nov2024.xlsx\n",
            "https://data.nsw.gov.au/data/dataset/a97a46fc-2bdd-4b90-ac7f-0cb1e8d7ac3b/resource/6a2f97d4-fc96-4f96-aeda-1cf38532bda9/download/fuelcheck_pricehistory_dec2024.xlsx\n",
            "https://data.nsw.gov.au/data/dataset/a97a46fc-2bdd-4b90-ac7f-0cb1e8d7ac3b/resource/133c5415-9954-44e8-8699-2c2942d35a8b/download/price_history_checks_jan2025.csv\n",
            "https://data.nsw.gov.au/data/dataset/a97a46fc-2bdd-4b90-ac7f-0cb1e8d7ac3b/resource/c350fcce-32f2-4e13-b569-a90a47c46ffa/download/price_history_checks_feb2025.csv\n",
            "https://data.nsw.gov.au/data/dataset/a97a46fc-2bdd-4b90-ac7f-0cb1e8d7ac3b/resource/215bafd0-031e-4106-9b59-694e0f222e5f/download/fuelcheck_pricehistory_mar25.xlsx\n"
          ]
        }
      ]
    },
    {
      "cell_type": "code",
      "source": [
        "final_df = pd.concat(df, ignore_index=True)"
      ],
      "metadata": {
        "id": "u_BcgnTEFY6G"
      },
      "execution_count": 5,
      "outputs": []
    },
    {
      "cell_type": "code",
      "source": [
        "save(final_df)"
      ],
      "metadata": {
        "id": "8HDAJ7Q2Eeup"
      },
      "execution_count": 6,
      "outputs": []
    },
    {
      "cell_type": "code",
      "source": [
        "final_df.head()"
      ],
      "metadata": {
        "colab": {
          "base_uri": "https://localhost:8080/",
          "height": 625
        },
        "id": "vxXwnJaXATDK",
        "outputId": "aaa7dedb-ce0b-4061-dd82-dd7710c4bd6a"
      },
      "execution_count": 7,
      "outputs": [
        {
          "output_type": "execute_result",
          "data": {
            "text/plain": [
              "                       ServiceStationName  \\\n",
              "0  Costco Canberra Airport (Members Only)   \n",
              "1  Costco Canberra Airport (Members Only)   \n",
              "2  Costco Canberra Airport (Members Only)   \n",
              "3            Costco Casula (Members only)   \n",
              "4            Costco Casula (Members only)   \n",
              "\n",
              "                                           Address            Suburb  \\\n",
              "0  39-41 Mustang Avenue, Canberra Airport ACT 2609  Canberra Airport   \n",
              "1  39-41 Mustang Avenue, Canberra Airport ACT 2609  Canberra Airport   \n",
              "2  39-41 Mustang Avenue, Canberra Airport ACT 2609  Canberra Airport   \n",
              "3            20 Parkersfarm Place, Casula NSW 2170            Casula   \n",
              "4            20 Parkersfarm Place, Casula NSW 2170            Casula   \n",
              "\n",
              "   Postcode   Brand FuelCode     PriceUpdatedDate  Price  \n",
              "0      2609  Costco      U91  2024-01-01 00:44:05  168.7  \n",
              "1      2609  Costco      P98  2024-01-01 00:44:05  189.7  \n",
              "2      2609  Costco      PDL  2024-01-01 00:44:05  177.7  \n",
              "3      2170  Costco      E10  2024-01-01 00:44:11  164.7  \n",
              "4      2170  Costco      P98  2024-01-01 00:44:11  188.7  "
            ],
            "text/html": [
              "\n",
              "  <div id=\"df-d11393dd-3d4b-4a6a-b72a-d18e718ef852\" class=\"colab-df-container\">\n",
              "    <div>\n",
              "<style scoped>\n",
              "    .dataframe tbody tr th:only-of-type {\n",
              "        vertical-align: middle;\n",
              "    }\n",
              "\n",
              "    .dataframe tbody tr th {\n",
              "        vertical-align: top;\n",
              "    }\n",
              "\n",
              "    .dataframe thead th {\n",
              "        text-align: right;\n",
              "    }\n",
              "</style>\n",
              "<table border=\"1\" class=\"dataframe\">\n",
              "  <thead>\n",
              "    <tr style=\"text-align: right;\">\n",
              "      <th></th>\n",
              "      <th>ServiceStationName</th>\n",
              "      <th>Address</th>\n",
              "      <th>Suburb</th>\n",
              "      <th>Postcode</th>\n",
              "      <th>Brand</th>\n",
              "      <th>FuelCode</th>\n",
              "      <th>PriceUpdatedDate</th>\n",
              "      <th>Price</th>\n",
              "    </tr>\n",
              "  </thead>\n",
              "  <tbody>\n",
              "    <tr>\n",
              "      <th>0</th>\n",
              "      <td>Costco Canberra Airport (Members Only)</td>\n",
              "      <td>39-41 Mustang Avenue, Canberra Airport ACT 2609</td>\n",
              "      <td>Canberra Airport</td>\n",
              "      <td>2609</td>\n",
              "      <td>Costco</td>\n",
              "      <td>U91</td>\n",
              "      <td>2024-01-01 00:44:05</td>\n",
              "      <td>168.7</td>\n",
              "    </tr>\n",
              "    <tr>\n",
              "      <th>1</th>\n",
              "      <td>Costco Canberra Airport (Members Only)</td>\n",
              "      <td>39-41 Mustang Avenue, Canberra Airport ACT 2609</td>\n",
              "      <td>Canberra Airport</td>\n",
              "      <td>2609</td>\n",
              "      <td>Costco</td>\n",
              "      <td>P98</td>\n",
              "      <td>2024-01-01 00:44:05</td>\n",
              "      <td>189.7</td>\n",
              "    </tr>\n",
              "    <tr>\n",
              "      <th>2</th>\n",
              "      <td>Costco Canberra Airport (Members Only)</td>\n",
              "      <td>39-41 Mustang Avenue, Canberra Airport ACT 2609</td>\n",
              "      <td>Canberra Airport</td>\n",
              "      <td>2609</td>\n",
              "      <td>Costco</td>\n",
              "      <td>PDL</td>\n",
              "      <td>2024-01-01 00:44:05</td>\n",
              "      <td>177.7</td>\n",
              "    </tr>\n",
              "    <tr>\n",
              "      <th>3</th>\n",
              "      <td>Costco Casula (Members only)</td>\n",
              "      <td>20 Parkersfarm Place, Casula NSW 2170</td>\n",
              "      <td>Casula</td>\n",
              "      <td>2170</td>\n",
              "      <td>Costco</td>\n",
              "      <td>E10</td>\n",
              "      <td>2024-01-01 00:44:11</td>\n",
              "      <td>164.7</td>\n",
              "    </tr>\n",
              "    <tr>\n",
              "      <th>4</th>\n",
              "      <td>Costco Casula (Members only)</td>\n",
              "      <td>20 Parkersfarm Place, Casula NSW 2170</td>\n",
              "      <td>Casula</td>\n",
              "      <td>2170</td>\n",
              "      <td>Costco</td>\n",
              "      <td>P98</td>\n",
              "      <td>2024-01-01 00:44:11</td>\n",
              "      <td>188.7</td>\n",
              "    </tr>\n",
              "  </tbody>\n",
              "</table>\n",
              "</div>\n",
              "    <div class=\"colab-df-buttons\">\n",
              "\n",
              "  <div class=\"colab-df-container\">\n",
              "    <button class=\"colab-df-convert\" onclick=\"convertToInteractive('df-d11393dd-3d4b-4a6a-b72a-d18e718ef852')\"\n",
              "            title=\"Convert this dataframe to an interactive table.\"\n",
              "            style=\"display:none;\">\n",
              "\n",
              "  <svg xmlns=\"http://www.w3.org/2000/svg\" height=\"24px\" viewBox=\"0 -960 960 960\">\n",
              "    <path d=\"M120-120v-720h720v720H120Zm60-500h600v-160H180v160Zm220 220h160v-160H400v160Zm0 220h160v-160H400v160ZM180-400h160v-160H180v160Zm440 0h160v-160H620v160ZM180-180h160v-160H180v160Zm440 0h160v-160H620v160Z\"/>\n",
              "  </svg>\n",
              "    </button>\n",
              "\n",
              "  <style>\n",
              "    .colab-df-container {\n",
              "      display:flex;\n",
              "      gap: 12px;\n",
              "    }\n",
              "\n",
              "    .colab-df-convert {\n",
              "      background-color: #E8F0FE;\n",
              "      border: none;\n",
              "      border-radius: 50%;\n",
              "      cursor: pointer;\n",
              "      display: none;\n",
              "      fill: #1967D2;\n",
              "      height: 32px;\n",
              "      padding: 0 0 0 0;\n",
              "      width: 32px;\n",
              "    }\n",
              "\n",
              "    .colab-df-convert:hover {\n",
              "      background-color: #E2EBFA;\n",
              "      box-shadow: 0px 1px 2px rgba(60, 64, 67, 0.3), 0px 1px 3px 1px rgba(60, 64, 67, 0.15);\n",
              "      fill: #174EA6;\n",
              "    }\n",
              "\n",
              "    .colab-df-buttons div {\n",
              "      margin-bottom: 4px;\n",
              "    }\n",
              "\n",
              "    [theme=dark] .colab-df-convert {\n",
              "      background-color: #3B4455;\n",
              "      fill: #D2E3FC;\n",
              "    }\n",
              "\n",
              "    [theme=dark] .colab-df-convert:hover {\n",
              "      background-color: #434B5C;\n",
              "      box-shadow: 0px 1px 3px 1px rgba(0, 0, 0, 0.15);\n",
              "      filter: drop-shadow(0px 1px 2px rgba(0, 0, 0, 0.3));\n",
              "      fill: #FFFFFF;\n",
              "    }\n",
              "  </style>\n",
              "\n",
              "    <script>\n",
              "      const buttonEl =\n",
              "        document.querySelector('#df-d11393dd-3d4b-4a6a-b72a-d18e718ef852 button.colab-df-convert');\n",
              "      buttonEl.style.display =\n",
              "        google.colab.kernel.accessAllowed ? 'block' : 'none';\n",
              "\n",
              "      async function convertToInteractive(key) {\n",
              "        const element = document.querySelector('#df-d11393dd-3d4b-4a6a-b72a-d18e718ef852');\n",
              "        const dataTable =\n",
              "          await google.colab.kernel.invokeFunction('convertToInteractive',\n",
              "                                                    [key], {});\n",
              "        if (!dataTable) return;\n",
              "\n",
              "        const docLinkHtml = 'Like what you see? Visit the ' +\n",
              "          '<a target=\"_blank\" href=https://colab.research.google.com/notebooks/data_table.ipynb>data table notebook</a>'\n",
              "          + ' to learn more about interactive tables.';\n",
              "        element.innerHTML = '';\n",
              "        dataTable['output_type'] = 'display_data';\n",
              "        await google.colab.output.renderOutput(dataTable, element);\n",
              "        const docLink = document.createElement('div');\n",
              "        docLink.innerHTML = docLinkHtml;\n",
              "        element.appendChild(docLink);\n",
              "      }\n",
              "    </script>\n",
              "  </div>\n",
              "\n",
              "\n",
              "<div id=\"df-03191074-5dfd-4278-8c5e-a2057df79599\">\n",
              "  <button class=\"colab-df-quickchart\" onclick=\"quickchart('df-03191074-5dfd-4278-8c5e-a2057df79599')\"\n",
              "            title=\"Suggest charts\"\n",
              "            style=\"display:none;\">\n",
              "\n",
              "<svg xmlns=\"http://www.w3.org/2000/svg\" height=\"24px\"viewBox=\"0 0 24 24\"\n",
              "     width=\"24px\">\n",
              "    <g>\n",
              "        <path d=\"M19 3H5c-1.1 0-2 .9-2 2v14c0 1.1.9 2 2 2h14c1.1 0 2-.9 2-2V5c0-1.1-.9-2-2-2zM9 17H7v-7h2v7zm4 0h-2V7h2v10zm4 0h-2v-4h2v4z\"/>\n",
              "    </g>\n",
              "</svg>\n",
              "  </button>\n",
              "\n",
              "<style>\n",
              "  .colab-df-quickchart {\n",
              "      --bg-color: #E8F0FE;\n",
              "      --fill-color: #1967D2;\n",
              "      --hover-bg-color: #E2EBFA;\n",
              "      --hover-fill-color: #174EA6;\n",
              "      --disabled-fill-color: #AAA;\n",
              "      --disabled-bg-color: #DDD;\n",
              "  }\n",
              "\n",
              "  [theme=dark] .colab-df-quickchart {\n",
              "      --bg-color: #3B4455;\n",
              "      --fill-color: #D2E3FC;\n",
              "      --hover-bg-color: #434B5C;\n",
              "      --hover-fill-color: #FFFFFF;\n",
              "      --disabled-bg-color: #3B4455;\n",
              "      --disabled-fill-color: #666;\n",
              "  }\n",
              "\n",
              "  .colab-df-quickchart {\n",
              "    background-color: var(--bg-color);\n",
              "    border: none;\n",
              "    border-radius: 50%;\n",
              "    cursor: pointer;\n",
              "    display: none;\n",
              "    fill: var(--fill-color);\n",
              "    height: 32px;\n",
              "    padding: 0;\n",
              "    width: 32px;\n",
              "  }\n",
              "\n",
              "  .colab-df-quickchart:hover {\n",
              "    background-color: var(--hover-bg-color);\n",
              "    box-shadow: 0 1px 2px rgba(60, 64, 67, 0.3), 0 1px 3px 1px rgba(60, 64, 67, 0.15);\n",
              "    fill: var(--button-hover-fill-color);\n",
              "  }\n",
              "\n",
              "  .colab-df-quickchart-complete:disabled,\n",
              "  .colab-df-quickchart-complete:disabled:hover {\n",
              "    background-color: var(--disabled-bg-color);\n",
              "    fill: var(--disabled-fill-color);\n",
              "    box-shadow: none;\n",
              "  }\n",
              "\n",
              "  .colab-df-spinner {\n",
              "    border: 2px solid var(--fill-color);\n",
              "    border-color: transparent;\n",
              "    border-bottom-color: var(--fill-color);\n",
              "    animation:\n",
              "      spin 1s steps(1) infinite;\n",
              "  }\n",
              "\n",
              "  @keyframes spin {\n",
              "    0% {\n",
              "      border-color: transparent;\n",
              "      border-bottom-color: var(--fill-color);\n",
              "      border-left-color: var(--fill-color);\n",
              "    }\n",
              "    20% {\n",
              "      border-color: transparent;\n",
              "      border-left-color: var(--fill-color);\n",
              "      border-top-color: var(--fill-color);\n",
              "    }\n",
              "    30% {\n",
              "      border-color: transparent;\n",
              "      border-left-color: var(--fill-color);\n",
              "      border-top-color: var(--fill-color);\n",
              "      border-right-color: var(--fill-color);\n",
              "    }\n",
              "    40% {\n",
              "      border-color: transparent;\n",
              "      border-right-color: var(--fill-color);\n",
              "      border-top-color: var(--fill-color);\n",
              "    }\n",
              "    60% {\n",
              "      border-color: transparent;\n",
              "      border-right-color: var(--fill-color);\n",
              "    }\n",
              "    80% {\n",
              "      border-color: transparent;\n",
              "      border-right-color: var(--fill-color);\n",
              "      border-bottom-color: var(--fill-color);\n",
              "    }\n",
              "    90% {\n",
              "      border-color: transparent;\n",
              "      border-bottom-color: var(--fill-color);\n",
              "    }\n",
              "  }\n",
              "</style>\n",
              "\n",
              "  <script>\n",
              "    async function quickchart(key) {\n",
              "      const quickchartButtonEl =\n",
              "        document.querySelector('#' + key + ' button');\n",
              "      quickchartButtonEl.disabled = true;  // To prevent multiple clicks.\n",
              "      quickchartButtonEl.classList.add('colab-df-spinner');\n",
              "      try {\n",
              "        const charts = await google.colab.kernel.invokeFunction(\n",
              "            'suggestCharts', [key], {});\n",
              "      } catch (error) {\n",
              "        console.error('Error during call to suggestCharts:', error);\n",
              "      }\n",
              "      quickchartButtonEl.classList.remove('colab-df-spinner');\n",
              "      quickchartButtonEl.classList.add('colab-df-quickchart-complete');\n",
              "    }\n",
              "    (() => {\n",
              "      let quickchartButtonEl =\n",
              "        document.querySelector('#df-03191074-5dfd-4278-8c5e-a2057df79599 button');\n",
              "      quickchartButtonEl.style.display =\n",
              "        google.colab.kernel.accessAllowed ? 'block' : 'none';\n",
              "    })();\n",
              "  </script>\n",
              "</div>\n",
              "\n",
              "    </div>\n",
              "  </div>\n"
            ],
            "application/vnd.google.colaboratory.intrinsic+json": {
              "type": "dataframe",
              "variable_name": "final_df"
            }
          },
          "metadata": {},
          "execution_count": 7
        }
      ]
    },
    {
      "cell_type": "code",
      "source": [
        "#final_df.to_csv('final.csv', index=False)"
      ],
      "metadata": {
        "id": "YHdbIjPYHTvh"
      },
      "execution_count": 8,
      "outputs": []
    },
    {
      "cell_type": "markdown",
      "source": [
        "**Data Cleaning Section**"
      ],
      "metadata": {
        "id": "izhnxhUv9LTx"
      }
    },
    {
      "cell_type": "markdown",
      "source": [
        "1. Initial Checks"
      ],
      "metadata": {
        "id": "Y9U5GDBX-wLv"
      }
    },
    {
      "cell_type": "code",
      "source": [
        "print(final_df.head())"
      ],
      "metadata": {
        "colab": {
          "base_uri": "https://localhost:8080/"
        },
        "id": "z36EBL9P9OM8",
        "outputId": "a540e0a4-86da-476b-8d45-d734450cea37"
      },
      "execution_count": 9,
      "outputs": [
        {
          "output_type": "stream",
          "name": "stdout",
          "text": [
            "                       ServiceStationName  \\\n",
            "0  Costco Canberra Airport (Members Only)   \n",
            "1  Costco Canberra Airport (Members Only)   \n",
            "2  Costco Canberra Airport (Members Only)   \n",
            "3            Costco Casula (Members only)   \n",
            "4            Costco Casula (Members only)   \n",
            "\n",
            "                                           Address            Suburb  \\\n",
            "0  39-41 Mustang Avenue, Canberra Airport ACT 2609  Canberra Airport   \n",
            "1  39-41 Mustang Avenue, Canberra Airport ACT 2609  Canberra Airport   \n",
            "2  39-41 Mustang Avenue, Canberra Airport ACT 2609  Canberra Airport   \n",
            "3            20 Parkersfarm Place, Casula NSW 2170            Casula   \n",
            "4            20 Parkersfarm Place, Casula NSW 2170            Casula   \n",
            "\n",
            "   Postcode   Brand FuelCode     PriceUpdatedDate  Price  \n",
            "0      2609  Costco      U91  2024-01-01 00:44:05  168.7  \n",
            "1      2609  Costco      P98  2024-01-01 00:44:05  189.7  \n",
            "2      2609  Costco      PDL  2024-01-01 00:44:05  177.7  \n",
            "3      2170  Costco      E10  2024-01-01 00:44:11  164.7  \n",
            "4      2170  Costco      P98  2024-01-01 00:44:11  188.7  \n"
          ]
        }
      ]
    },
    {
      "cell_type": "code",
      "source": [
        "print(final_df.shape)\n"
      ],
      "metadata": {
        "colab": {
          "base_uri": "https://localhost:8080/"
        },
        "id": "o8DrXrKt9a2h",
        "outputId": "44ab893e-908b-44d4-856d-8dfd0207bbac"
      },
      "execution_count": 10,
      "outputs": [
        {
          "output_type": "stream",
          "name": "stdout",
          "text": [
            "(1128302, 8)\n"
          ]
        }
      ]
    },
    {
      "cell_type": "code",
      "source": [
        "print(final_df.describe())\n"
      ],
      "metadata": {
        "colab": {
          "base_uri": "https://localhost:8080/"
        },
        "id": "5puOFc5o96qk",
        "outputId": "bfd2023c-fd7c-4f7f-b4a8-2830a91e205c"
      },
      "execution_count": 11,
      "outputs": [
        {
          "output_type": "stream",
          "name": "stdout",
          "text": [
            "           Postcode         Price\n",
            "count  1.128302e+06  1.128302e+06\n",
            "mean   2.337399e+03  1.962306e+02\n",
            "std    2.390291e+02  1.981015e+01\n",
            "min    2.007000e+03  5.590000e+01\n",
            "25%    2.152000e+03  1.829000e+02\n",
            "50%    2.259000e+03  1.957000e+02\n",
            "75%    2.541000e+03  2.089000e+02\n",
            "max    4.383000e+03  2.999000e+02\n"
          ]
        }
      ]
    },
    {
      "cell_type": "code",
      "source": [
        "print(final_df.info())"
      ],
      "metadata": {
        "colab": {
          "base_uri": "https://localhost:8080/"
        },
        "id": "V-GtRFCx9-9U",
        "outputId": "28bc1e63-2c72-4b5f-b031-e83edebd5869"
      },
      "execution_count": 12,
      "outputs": [
        {
          "output_type": "stream",
          "name": "stdout",
          "text": [
            "<class 'pandas.core.frame.DataFrame'>\n",
            "RangeIndex: 1128302 entries, 0 to 1128301\n",
            "Data columns (total 8 columns):\n",
            " #   Column              Non-Null Count    Dtype  \n",
            "---  ------              --------------    -----  \n",
            " 0   ServiceStationName  1128302 non-null  object \n",
            " 1   Address             1128302 non-null  object \n",
            " 2   Suburb              1128302 non-null  object \n",
            " 3   Postcode            1128302 non-null  int64  \n",
            " 4   Brand               1128302 non-null  object \n",
            " 5   FuelCode            1128302 non-null  object \n",
            " 6   PriceUpdatedDate    1128302 non-null  object \n",
            " 7   Price               1128302 non-null  float64\n",
            "dtypes: float64(1), int64(1), object(6)\n",
            "memory usage: 68.9+ MB\n",
            "None\n"
          ]
        }
      ]
    },
    {
      "cell_type": "code",
      "source": [
        "print(final_df.columns)"
      ],
      "metadata": {
        "colab": {
          "base_uri": "https://localhost:8080/"
        },
        "id": "xwPxkkB_-B8c",
        "outputId": "c8edcb9b-02d6-4281-e1b9-05b886e8f574"
      },
      "execution_count": 13,
      "outputs": [
        {
          "output_type": "stream",
          "name": "stdout",
          "text": [
            "Index(['ServiceStationName', 'Address', 'Suburb', 'Postcode', 'Brand',\n",
            "       'FuelCode', 'PriceUpdatedDate', 'Price'],\n",
            "      dtype='object')\n"
          ]
        }
      ]
    },
    {
      "cell_type": "markdown",
      "source": [
        "2. Check Missing Values"
      ],
      "metadata": {
        "id": "hJqDIEyZ-3QB"
      }
    },
    {
      "cell_type": "code",
      "source": [
        "print(\"Missing values per column:\\n\", final_df.isnull().sum())"
      ],
      "metadata": {
        "colab": {
          "base_uri": "https://localhost:8080/"
        },
        "id": "Mum3XGW0-2yK",
        "outputId": "59239848-ecc6-4b0c-8782-cfce772009e5"
      },
      "execution_count": 14,
      "outputs": [
        {
          "output_type": "stream",
          "name": "stdout",
          "text": [
            "Missing values per column:\n",
            " ServiceStationName    0\n",
            "Address               0\n",
            "Suburb                0\n",
            "Postcode              0\n",
            "Brand                 0\n",
            "FuelCode              0\n",
            "PriceUpdatedDate      0\n",
            "Price                 0\n",
            "dtype: int64\n"
          ]
        }
      ]
    },
    {
      "cell_type": "markdown",
      "source": [
        "3. Data Cleaning Steps"
      ],
      "metadata": {
        "id": "VHwvdYEFBv9h"
      }
    },
    {
      "cell_type": "markdown",
      "source": [
        "3.1 Duplicates Entry"
      ],
      "metadata": {
        "id": "wExX3NiPCl69"
      }
    },
    {
      "cell_type": "code",
      "source": [
        "# Convert date column\n",
        "final_df['PriceUpdatedDate'] = pd.to_datetime(final_df['PriceUpdatedDate'])"
      ],
      "metadata": {
        "id": "AhQJ4Q1eBtjk"
      },
      "execution_count": 15,
      "outputs": []
    },
    {
      "cell_type": "code",
      "source": [
        "print(final_df.info())"
      ],
      "metadata": {
        "colab": {
          "base_uri": "https://localhost:8080/"
        },
        "id": "OngxB9v2CD-C",
        "outputId": "8c42213d-83de-403f-f755-8ba065a0d208"
      },
      "execution_count": 16,
      "outputs": [
        {
          "output_type": "stream",
          "name": "stdout",
          "text": [
            "<class 'pandas.core.frame.DataFrame'>\n",
            "RangeIndex: 1128302 entries, 0 to 1128301\n",
            "Data columns (total 8 columns):\n",
            " #   Column              Non-Null Count    Dtype         \n",
            "---  ------              --------------    -----         \n",
            " 0   ServiceStationName  1128302 non-null  object        \n",
            " 1   Address             1128302 non-null  object        \n",
            " 2   Suburb              1128302 non-null  object        \n",
            " 3   Postcode            1128302 non-null  int64         \n",
            " 4   Brand               1128302 non-null  object        \n",
            " 5   FuelCode            1128302 non-null  object        \n",
            " 6   PriceUpdatedDate    1128302 non-null  datetime64[ns]\n",
            " 7   Price               1128302 non-null  float64       \n",
            "dtypes: datetime64[ns](1), float64(1), int64(1), object(5)\n",
            "memory usage: 68.9+ MB\n",
            "None\n"
          ]
        }
      ]
    },
    {
      "cell_type": "code",
      "source": [
        "# Duplicate Price Update per station and fuel type\n",
        "duplicates = final_df.duplicated(subset=['ServiceStationName','Address', 'FuelCode', 'PriceUpdatedDate'], keep=False)\n",
        "print(\"Duplicate entries found:\", duplicates.sum())\n"
      ],
      "metadata": {
        "colab": {
          "base_uri": "https://localhost:8080/"
        },
        "id": "uKOKD2GpCgmI",
        "outputId": "73d67405-0c60-45fb-ac74-80d79cdeac80"
      },
      "execution_count": 17,
      "outputs": [
        {
          "output_type": "stream",
          "name": "stdout",
          "text": [
            "Duplicate entries found: 38\n"
          ]
        }
      ]
    },
    {
      "cell_type": "code",
      "source": [
        "# Display the actual duplicate rows\n",
        "duplicate_rows = final_df[duplicates]\n",
        "duplicate_rows.head(10)"
      ],
      "metadata": {
        "colab": {
          "base_uri": "https://localhost:8080/",
          "height": 903
        },
        "id": "JjxplI-aDJW3",
        "outputId": "0db029d3-32ea-462a-ba87-34d3056c4708"
      },
      "execution_count": 18,
      "outputs": [
        {
          "output_type": "execute_result",
          "data": {
            "text/plain": [
              "      ServiceStationName                        Address Suburb  Postcode  \\\n",
              "17833        Ampol Wyong  M1 Southbound, Wyong NSW 2259  Wyong      2259   \n",
              "17834        Ampol Wyong  M1 Southbound, Wyong NSW 2259  Wyong      2259   \n",
              "25226        Ampol Wyong  M1 Northbound, Wyong NSW 2259  Wyong      2259   \n",
              "25229        Ampol Wyong  M1 Northbound, Wyong NSW 2259  Wyong      2259   \n",
              "43738        Ampol Wyong  M1 Southbound, Wyong NSW 2259  Wyong      2259   \n",
              "43739        Ampol Wyong  M1 Southbound, Wyong NSW 2259  Wyong      2259   \n",
              "43740        Ampol Wyong  M1 Southbound, Wyong NSW 2259  Wyong      2259   \n",
              "43741        Ampol Wyong  M1 Southbound, Wyong NSW 2259  Wyong      2259   \n",
              "53547        Ampol Wyong  M1 Northbound, Wyong NSW 2259  Wyong      2259   \n",
              "53551        Ampol Wyong  M1 Northbound, Wyong NSW 2259  Wyong      2259   \n",
              "\n",
              "       Brand FuelCode    PriceUpdatedDate  Price  \n",
              "17833  Ampol      LPG 2024-01-08 08:34:18  105.9  \n",
              "17834  Ampol      LPG 2024-01-08 08:34:18  105.9  \n",
              "25226  Ampol      PDL 2024-01-10 15:46:08  188.9  \n",
              "25229  Ampol      PDL 2024-01-10 15:46:08  188.9  \n",
              "43738  Ampol      E10 2024-01-20 09:18:18  181.9  \n",
              "43739  Ampol      P95 2024-01-20 09:18:18  198.9  \n",
              "43740  Ampol      E10 2024-01-20 09:18:18  181.9  \n",
              "43741  Ampol      P95 2024-01-20 09:18:18  198.9  \n",
              "53547  Ampol      P95 2024-01-24 12:18:06  202.9  \n",
              "53551  Ampol      P95 2024-01-24 12:18:06  202.9  "
            ],
            "text/html": [
              "\n",
              "  <div id=\"df-ad6e89f8-e9f3-476b-aca6-14bdc0abfa0d\" class=\"colab-df-container\">\n",
              "    <div>\n",
              "<style scoped>\n",
              "    .dataframe tbody tr th:only-of-type {\n",
              "        vertical-align: middle;\n",
              "    }\n",
              "\n",
              "    .dataframe tbody tr th {\n",
              "        vertical-align: top;\n",
              "    }\n",
              "\n",
              "    .dataframe thead th {\n",
              "        text-align: right;\n",
              "    }\n",
              "</style>\n",
              "<table border=\"1\" class=\"dataframe\">\n",
              "  <thead>\n",
              "    <tr style=\"text-align: right;\">\n",
              "      <th></th>\n",
              "      <th>ServiceStationName</th>\n",
              "      <th>Address</th>\n",
              "      <th>Suburb</th>\n",
              "      <th>Postcode</th>\n",
              "      <th>Brand</th>\n",
              "      <th>FuelCode</th>\n",
              "      <th>PriceUpdatedDate</th>\n",
              "      <th>Price</th>\n",
              "    </tr>\n",
              "  </thead>\n",
              "  <tbody>\n",
              "    <tr>\n",
              "      <th>17833</th>\n",
              "      <td>Ampol Wyong</td>\n",
              "      <td>M1 Southbound, Wyong NSW 2259</td>\n",
              "      <td>Wyong</td>\n",
              "      <td>2259</td>\n",
              "      <td>Ampol</td>\n",
              "      <td>LPG</td>\n",
              "      <td>2024-01-08 08:34:18</td>\n",
              "      <td>105.9</td>\n",
              "    </tr>\n",
              "    <tr>\n",
              "      <th>17834</th>\n",
              "      <td>Ampol Wyong</td>\n",
              "      <td>M1 Southbound, Wyong NSW 2259</td>\n",
              "      <td>Wyong</td>\n",
              "      <td>2259</td>\n",
              "      <td>Ampol</td>\n",
              "      <td>LPG</td>\n",
              "      <td>2024-01-08 08:34:18</td>\n",
              "      <td>105.9</td>\n",
              "    </tr>\n",
              "    <tr>\n",
              "      <th>25226</th>\n",
              "      <td>Ampol Wyong</td>\n",
              "      <td>M1 Northbound, Wyong NSW 2259</td>\n",
              "      <td>Wyong</td>\n",
              "      <td>2259</td>\n",
              "      <td>Ampol</td>\n",
              "      <td>PDL</td>\n",
              "      <td>2024-01-10 15:46:08</td>\n",
              "      <td>188.9</td>\n",
              "    </tr>\n",
              "    <tr>\n",
              "      <th>25229</th>\n",
              "      <td>Ampol Wyong</td>\n",
              "      <td>M1 Northbound, Wyong NSW 2259</td>\n",
              "      <td>Wyong</td>\n",
              "      <td>2259</td>\n",
              "      <td>Ampol</td>\n",
              "      <td>PDL</td>\n",
              "      <td>2024-01-10 15:46:08</td>\n",
              "      <td>188.9</td>\n",
              "    </tr>\n",
              "    <tr>\n",
              "      <th>43738</th>\n",
              "      <td>Ampol Wyong</td>\n",
              "      <td>M1 Southbound, Wyong NSW 2259</td>\n",
              "      <td>Wyong</td>\n",
              "      <td>2259</td>\n",
              "      <td>Ampol</td>\n",
              "      <td>E10</td>\n",
              "      <td>2024-01-20 09:18:18</td>\n",
              "      <td>181.9</td>\n",
              "    </tr>\n",
              "    <tr>\n",
              "      <th>43739</th>\n",
              "      <td>Ampol Wyong</td>\n",
              "      <td>M1 Southbound, Wyong NSW 2259</td>\n",
              "      <td>Wyong</td>\n",
              "      <td>2259</td>\n",
              "      <td>Ampol</td>\n",
              "      <td>P95</td>\n",
              "      <td>2024-01-20 09:18:18</td>\n",
              "      <td>198.9</td>\n",
              "    </tr>\n",
              "    <tr>\n",
              "      <th>43740</th>\n",
              "      <td>Ampol Wyong</td>\n",
              "      <td>M1 Southbound, Wyong NSW 2259</td>\n",
              "      <td>Wyong</td>\n",
              "      <td>2259</td>\n",
              "      <td>Ampol</td>\n",
              "      <td>E10</td>\n",
              "      <td>2024-01-20 09:18:18</td>\n",
              "      <td>181.9</td>\n",
              "    </tr>\n",
              "    <tr>\n",
              "      <th>43741</th>\n",
              "      <td>Ampol Wyong</td>\n",
              "      <td>M1 Southbound, Wyong NSW 2259</td>\n",
              "      <td>Wyong</td>\n",
              "      <td>2259</td>\n",
              "      <td>Ampol</td>\n",
              "      <td>P95</td>\n",
              "      <td>2024-01-20 09:18:18</td>\n",
              "      <td>198.9</td>\n",
              "    </tr>\n",
              "    <tr>\n",
              "      <th>53547</th>\n",
              "      <td>Ampol Wyong</td>\n",
              "      <td>M1 Northbound, Wyong NSW 2259</td>\n",
              "      <td>Wyong</td>\n",
              "      <td>2259</td>\n",
              "      <td>Ampol</td>\n",
              "      <td>P95</td>\n",
              "      <td>2024-01-24 12:18:06</td>\n",
              "      <td>202.9</td>\n",
              "    </tr>\n",
              "    <tr>\n",
              "      <th>53551</th>\n",
              "      <td>Ampol Wyong</td>\n",
              "      <td>M1 Northbound, Wyong NSW 2259</td>\n",
              "      <td>Wyong</td>\n",
              "      <td>2259</td>\n",
              "      <td>Ampol</td>\n",
              "      <td>P95</td>\n",
              "      <td>2024-01-24 12:18:06</td>\n",
              "      <td>202.9</td>\n",
              "    </tr>\n",
              "  </tbody>\n",
              "</table>\n",
              "</div>\n",
              "    <div class=\"colab-df-buttons\">\n",
              "\n",
              "  <div class=\"colab-df-container\">\n",
              "    <button class=\"colab-df-convert\" onclick=\"convertToInteractive('df-ad6e89f8-e9f3-476b-aca6-14bdc0abfa0d')\"\n",
              "            title=\"Convert this dataframe to an interactive table.\"\n",
              "            style=\"display:none;\">\n",
              "\n",
              "  <svg xmlns=\"http://www.w3.org/2000/svg\" height=\"24px\" viewBox=\"0 -960 960 960\">\n",
              "    <path d=\"M120-120v-720h720v720H120Zm60-500h600v-160H180v160Zm220 220h160v-160H400v160Zm0 220h160v-160H400v160ZM180-400h160v-160H180v160Zm440 0h160v-160H620v160ZM180-180h160v-160H180v160Zm440 0h160v-160H620v160Z\"/>\n",
              "  </svg>\n",
              "    </button>\n",
              "\n",
              "  <style>\n",
              "    .colab-df-container {\n",
              "      display:flex;\n",
              "      gap: 12px;\n",
              "    }\n",
              "\n",
              "    .colab-df-convert {\n",
              "      background-color: #E8F0FE;\n",
              "      border: none;\n",
              "      border-radius: 50%;\n",
              "      cursor: pointer;\n",
              "      display: none;\n",
              "      fill: #1967D2;\n",
              "      height: 32px;\n",
              "      padding: 0 0 0 0;\n",
              "      width: 32px;\n",
              "    }\n",
              "\n",
              "    .colab-df-convert:hover {\n",
              "      background-color: #E2EBFA;\n",
              "      box-shadow: 0px 1px 2px rgba(60, 64, 67, 0.3), 0px 1px 3px 1px rgba(60, 64, 67, 0.15);\n",
              "      fill: #174EA6;\n",
              "    }\n",
              "\n",
              "    .colab-df-buttons div {\n",
              "      margin-bottom: 4px;\n",
              "    }\n",
              "\n",
              "    [theme=dark] .colab-df-convert {\n",
              "      background-color: #3B4455;\n",
              "      fill: #D2E3FC;\n",
              "    }\n",
              "\n",
              "    [theme=dark] .colab-df-convert:hover {\n",
              "      background-color: #434B5C;\n",
              "      box-shadow: 0px 1px 3px 1px rgba(0, 0, 0, 0.15);\n",
              "      filter: drop-shadow(0px 1px 2px rgba(0, 0, 0, 0.3));\n",
              "      fill: #FFFFFF;\n",
              "    }\n",
              "  </style>\n",
              "\n",
              "    <script>\n",
              "      const buttonEl =\n",
              "        document.querySelector('#df-ad6e89f8-e9f3-476b-aca6-14bdc0abfa0d button.colab-df-convert');\n",
              "      buttonEl.style.display =\n",
              "        google.colab.kernel.accessAllowed ? 'block' : 'none';\n",
              "\n",
              "      async function convertToInteractive(key) {\n",
              "        const element = document.querySelector('#df-ad6e89f8-e9f3-476b-aca6-14bdc0abfa0d');\n",
              "        const dataTable =\n",
              "          await google.colab.kernel.invokeFunction('convertToInteractive',\n",
              "                                                    [key], {});\n",
              "        if (!dataTable) return;\n",
              "\n",
              "        const docLinkHtml = 'Like what you see? Visit the ' +\n",
              "          '<a target=\"_blank\" href=https://colab.research.google.com/notebooks/data_table.ipynb>data table notebook</a>'\n",
              "          + ' to learn more about interactive tables.';\n",
              "        element.innerHTML = '';\n",
              "        dataTable['output_type'] = 'display_data';\n",
              "        await google.colab.output.renderOutput(dataTable, element);\n",
              "        const docLink = document.createElement('div');\n",
              "        docLink.innerHTML = docLinkHtml;\n",
              "        element.appendChild(docLink);\n",
              "      }\n",
              "    </script>\n",
              "  </div>\n",
              "\n",
              "\n",
              "<div id=\"df-97095627-77fd-46cd-aabc-40c9cba1de95\">\n",
              "  <button class=\"colab-df-quickchart\" onclick=\"quickchart('df-97095627-77fd-46cd-aabc-40c9cba1de95')\"\n",
              "            title=\"Suggest charts\"\n",
              "            style=\"display:none;\">\n",
              "\n",
              "<svg xmlns=\"http://www.w3.org/2000/svg\" height=\"24px\"viewBox=\"0 0 24 24\"\n",
              "     width=\"24px\">\n",
              "    <g>\n",
              "        <path d=\"M19 3H5c-1.1 0-2 .9-2 2v14c0 1.1.9 2 2 2h14c1.1 0 2-.9 2-2V5c0-1.1-.9-2-2-2zM9 17H7v-7h2v7zm4 0h-2V7h2v10zm4 0h-2v-4h2v4z\"/>\n",
              "    </g>\n",
              "</svg>\n",
              "  </button>\n",
              "\n",
              "<style>\n",
              "  .colab-df-quickchart {\n",
              "      --bg-color: #E8F0FE;\n",
              "      --fill-color: #1967D2;\n",
              "      --hover-bg-color: #E2EBFA;\n",
              "      --hover-fill-color: #174EA6;\n",
              "      --disabled-fill-color: #AAA;\n",
              "      --disabled-bg-color: #DDD;\n",
              "  }\n",
              "\n",
              "  [theme=dark] .colab-df-quickchart {\n",
              "      --bg-color: #3B4455;\n",
              "      --fill-color: #D2E3FC;\n",
              "      --hover-bg-color: #434B5C;\n",
              "      --hover-fill-color: #FFFFFF;\n",
              "      --disabled-bg-color: #3B4455;\n",
              "      --disabled-fill-color: #666;\n",
              "  }\n",
              "\n",
              "  .colab-df-quickchart {\n",
              "    background-color: var(--bg-color);\n",
              "    border: none;\n",
              "    border-radius: 50%;\n",
              "    cursor: pointer;\n",
              "    display: none;\n",
              "    fill: var(--fill-color);\n",
              "    height: 32px;\n",
              "    padding: 0;\n",
              "    width: 32px;\n",
              "  }\n",
              "\n",
              "  .colab-df-quickchart:hover {\n",
              "    background-color: var(--hover-bg-color);\n",
              "    box-shadow: 0 1px 2px rgba(60, 64, 67, 0.3), 0 1px 3px 1px rgba(60, 64, 67, 0.15);\n",
              "    fill: var(--button-hover-fill-color);\n",
              "  }\n",
              "\n",
              "  .colab-df-quickchart-complete:disabled,\n",
              "  .colab-df-quickchart-complete:disabled:hover {\n",
              "    background-color: var(--disabled-bg-color);\n",
              "    fill: var(--disabled-fill-color);\n",
              "    box-shadow: none;\n",
              "  }\n",
              "\n",
              "  .colab-df-spinner {\n",
              "    border: 2px solid var(--fill-color);\n",
              "    border-color: transparent;\n",
              "    border-bottom-color: var(--fill-color);\n",
              "    animation:\n",
              "      spin 1s steps(1) infinite;\n",
              "  }\n",
              "\n",
              "  @keyframes spin {\n",
              "    0% {\n",
              "      border-color: transparent;\n",
              "      border-bottom-color: var(--fill-color);\n",
              "      border-left-color: var(--fill-color);\n",
              "    }\n",
              "    20% {\n",
              "      border-color: transparent;\n",
              "      border-left-color: var(--fill-color);\n",
              "      border-top-color: var(--fill-color);\n",
              "    }\n",
              "    30% {\n",
              "      border-color: transparent;\n",
              "      border-left-color: var(--fill-color);\n",
              "      border-top-color: var(--fill-color);\n",
              "      border-right-color: var(--fill-color);\n",
              "    }\n",
              "    40% {\n",
              "      border-color: transparent;\n",
              "      border-right-color: var(--fill-color);\n",
              "      border-top-color: var(--fill-color);\n",
              "    }\n",
              "    60% {\n",
              "      border-color: transparent;\n",
              "      border-right-color: var(--fill-color);\n",
              "    }\n",
              "    80% {\n",
              "      border-color: transparent;\n",
              "      border-right-color: var(--fill-color);\n",
              "      border-bottom-color: var(--fill-color);\n",
              "    }\n",
              "    90% {\n",
              "      border-color: transparent;\n",
              "      border-bottom-color: var(--fill-color);\n",
              "    }\n",
              "  }\n",
              "</style>\n",
              "\n",
              "  <script>\n",
              "    async function quickchart(key) {\n",
              "      const quickchartButtonEl =\n",
              "        document.querySelector('#' + key + ' button');\n",
              "      quickchartButtonEl.disabled = true;  // To prevent multiple clicks.\n",
              "      quickchartButtonEl.classList.add('colab-df-spinner');\n",
              "      try {\n",
              "        const charts = await google.colab.kernel.invokeFunction(\n",
              "            'suggestCharts', [key], {});\n",
              "      } catch (error) {\n",
              "        console.error('Error during call to suggestCharts:', error);\n",
              "      }\n",
              "      quickchartButtonEl.classList.remove('colab-df-spinner');\n",
              "      quickchartButtonEl.classList.add('colab-df-quickchart-complete');\n",
              "    }\n",
              "    (() => {\n",
              "      let quickchartButtonEl =\n",
              "        document.querySelector('#df-97095627-77fd-46cd-aabc-40c9cba1de95 button');\n",
              "      quickchartButtonEl.style.display =\n",
              "        google.colab.kernel.accessAllowed ? 'block' : 'none';\n",
              "    })();\n",
              "  </script>\n",
              "</div>\n",
              "\n",
              "    </div>\n",
              "  </div>\n"
            ],
            "application/vnd.google.colaboratory.intrinsic+json": {
              "type": "dataframe",
              "variable_name": "duplicate_rows",
              "summary": "{\n  \"name\": \"duplicate_rows\",\n  \"rows\": 38,\n  \"fields\": [\n    {\n      \"column\": \"ServiceStationName\",\n      \"properties\": {\n        \"dtype\": \"category\",\n        \"num_unique_values\": 2,\n        \"samples\": [\n          \"Caltex Chester Hill\",\n          \"Ampol Wyong\"\n        ],\n        \"semantic_type\": \"\",\n        \"description\": \"\"\n      }\n    },\n    {\n      \"column\": \"Address\",\n      \"properties\": {\n        \"dtype\": \"category\",\n        \"num_unique_values\": 3,\n        \"samples\": [\n          \"M1 Southbound, Wyong NSW 2259\",\n          \"M1 Northbound, Wyong NSW 2259\"\n        ],\n        \"semantic_type\": \"\",\n        \"description\": \"\"\n      }\n    },\n    {\n      \"column\": \"Suburb\",\n      \"properties\": {\n        \"dtype\": \"category\",\n        \"num_unique_values\": 2,\n        \"samples\": [\n          \"Chester Hill\",\n          \"Wyong\"\n        ],\n        \"semantic_type\": \"\",\n        \"description\": \"\"\n      }\n    },\n    {\n      \"column\": \"Postcode\",\n      \"properties\": {\n        \"dtype\": \"number\",\n        \"std\": 40,\n        \"min\": 2162,\n        \"max\": 2259,\n        \"num_unique_values\": 2,\n        \"samples\": [\n          2162,\n          2259\n        ],\n        \"semantic_type\": \"\",\n        \"description\": \"\"\n      }\n    },\n    {\n      \"column\": \"Brand\",\n      \"properties\": {\n        \"dtype\": \"category\",\n        \"num_unique_values\": 2,\n        \"samples\": [\n          \"Caltex\",\n          \"Ampol\"\n        ],\n        \"semantic_type\": \"\",\n        \"description\": \"\"\n      }\n    },\n    {\n      \"column\": \"FuelCode\",\n      \"properties\": {\n        \"dtype\": \"category\",\n        \"num_unique_values\": 6,\n        \"samples\": [\n          \"LPG\",\n          \"PDL\"\n        ],\n        \"semantic_type\": \"\",\n        \"description\": \"\"\n      }\n    },\n    {\n      \"column\": \"PriceUpdatedDate\",\n      \"properties\": {\n        \"dtype\": \"date\",\n        \"min\": \"2024-01-08 08:34:18\",\n        \"max\": \"2024-12-20 10:08:43\",\n        \"num_unique_values\": 13,\n        \"samples\": [\n          \"2024-03-18 17:32:07\",\n          \"2024-03-06 12:32:18\"\n        ],\n        \"semantic_type\": \"\",\n        \"description\": \"\"\n      }\n    },\n    {\n      \"column\": \"Price\",\n      \"properties\": {\n        \"dtype\": \"number\",\n        \"std\": 22.916559635941276,\n        \"min\": 105.9,\n        \"max\": 211.9,\n        \"num_unique_values\": 20,\n        \"samples\": [\n          105.9,\n          171.7\n        ],\n        \"semantic_type\": \"\",\n        \"description\": \"\"\n      }\n    }\n  ]\n}"
            }
          },
          "metadata": {},
          "execution_count": 18
        }
      ]
    },
    {
      "cell_type": "code",
      "source": [
        "#Average Duplicate\n",
        "final_df = final_df.groupby(['ServiceStationName', 'Address','FuelCode', 'PriceUpdatedDate'], as_index=False).agg({\n",
        "    'Suburb': 'first',\n",
        "    'Postcode': 'first',\n",
        "    'Brand': 'first',\n",
        "    'Price': 'mean'\n",
        "})"
      ],
      "metadata": {
        "id": "qyFPdtS5AK7t"
      },
      "execution_count": 19,
      "outputs": []
    },
    {
      "cell_type": "code",
      "source": [
        "duplicates = final_df.duplicated(subset=['ServiceStationName','Address', 'FuelCode', 'PriceUpdatedDate'], keep=False)\n",
        "print(\"Duplicate entries found:\", duplicates.sum())"
      ],
      "metadata": {
        "colab": {
          "base_uri": "https://localhost:8080/"
        },
        "id": "m8V-rwzKAae-",
        "outputId": "9f53cc5a-d481-41ed-ff47-5d08a9840eef"
      },
      "execution_count": 20,
      "outputs": [
        {
          "output_type": "stream",
          "name": "stdout",
          "text": [
            "Duplicate entries found: 0\n"
          ]
        }
      ]
    },
    {
      "cell_type": "code",
      "source": [
        "print(final_df.shape)\n",
        "print(final_df.info())"
      ],
      "metadata": {
        "colab": {
          "base_uri": "https://localhost:8080/"
        },
        "id": "qPWA1zjjAlg6",
        "outputId": "3b423f12-4991-4fc7-fc5e-63a00ee160f9"
      },
      "execution_count": 21,
      "outputs": [
        {
          "output_type": "stream",
          "name": "stdout",
          "text": [
            "(1128283, 8)\n",
            "<class 'pandas.core.frame.DataFrame'>\n",
            "RangeIndex: 1128283 entries, 0 to 1128282\n",
            "Data columns (total 8 columns):\n",
            " #   Column              Non-Null Count    Dtype         \n",
            "---  ------              --------------    -----         \n",
            " 0   ServiceStationName  1128283 non-null  object        \n",
            " 1   Address             1128283 non-null  object        \n",
            " 2   FuelCode            1128283 non-null  object        \n",
            " 3   PriceUpdatedDate    1128283 non-null  datetime64[ns]\n",
            " 4   Suburb              1128283 non-null  object        \n",
            " 5   Postcode            1128283 non-null  int64         \n",
            " 6   Brand               1128283 non-null  object        \n",
            " 7   Price               1128283 non-null  float64       \n",
            "dtypes: datetime64[ns](1), float64(1), int64(1), object(5)\n",
            "memory usage: 68.9+ MB\n",
            "None\n"
          ]
        }
      ]
    },
    {
      "cell_type": "code",
      "source": [
        "final_df.head()"
      ],
      "metadata": {
        "colab": {
          "base_uri": "https://localhost:8080/",
          "height": 660
        },
        "id": "0eXZh-CTCK8E",
        "outputId": "40803b35-a64b-42f6-a543-22dcdf435caa"
      },
      "execution_count": 22,
      "outputs": [
        {
          "output_type": "execute_result",
          "data": {
            "text/plain": [
              "  ServiceStationName                               Address FuelCode  \\\n",
              "0  7 Express Carlton  370 Railway Parade, Carlton NSW 2216      E10   \n",
              "1  7 Express Carlton  370 Railway Parade, Carlton NSW 2216      E10   \n",
              "2  7 Express Carlton  370 Railway Parade, Carlton NSW 2216      E10   \n",
              "3  7 Express Carlton  370 Railway Parade, Carlton NSW 2216      E10   \n",
              "4  7 Express Carlton  370 Railway Parade, Carlton NSW 2216      E10   \n",
              "\n",
              "     PriceUpdatedDate   Suburb  Postcode        Brand  Price  \n",
              "0 2024-01-02 15:20:59  Carlton      2216  Independent  182.9  \n",
              "1 2024-01-03 21:22:36  Carlton      2216  Independent  181.9  \n",
              "2 2024-01-05 11:31:42  Carlton      2216  Independent  179.9  \n",
              "3 2024-01-06 10:01:50  Carlton      2216  Independent  177.9  \n",
              "4 2024-01-08 11:46:24  Carlton      2216  Independent  174.9  "
            ],
            "text/html": [
              "\n",
              "  <div id=\"df-18b864ec-8558-4917-a5ab-754321742546\" class=\"colab-df-container\">\n",
              "    <div>\n",
              "<style scoped>\n",
              "    .dataframe tbody tr th:only-of-type {\n",
              "        vertical-align: middle;\n",
              "    }\n",
              "\n",
              "    .dataframe tbody tr th {\n",
              "        vertical-align: top;\n",
              "    }\n",
              "\n",
              "    .dataframe thead th {\n",
              "        text-align: right;\n",
              "    }\n",
              "</style>\n",
              "<table border=\"1\" class=\"dataframe\">\n",
              "  <thead>\n",
              "    <tr style=\"text-align: right;\">\n",
              "      <th></th>\n",
              "      <th>ServiceStationName</th>\n",
              "      <th>Address</th>\n",
              "      <th>FuelCode</th>\n",
              "      <th>PriceUpdatedDate</th>\n",
              "      <th>Suburb</th>\n",
              "      <th>Postcode</th>\n",
              "      <th>Brand</th>\n",
              "      <th>Price</th>\n",
              "    </tr>\n",
              "  </thead>\n",
              "  <tbody>\n",
              "    <tr>\n",
              "      <th>0</th>\n",
              "      <td>7 Express Carlton</td>\n",
              "      <td>370 Railway Parade, Carlton NSW 2216</td>\n",
              "      <td>E10</td>\n",
              "      <td>2024-01-02 15:20:59</td>\n",
              "      <td>Carlton</td>\n",
              "      <td>2216</td>\n",
              "      <td>Independent</td>\n",
              "      <td>182.9</td>\n",
              "    </tr>\n",
              "    <tr>\n",
              "      <th>1</th>\n",
              "      <td>7 Express Carlton</td>\n",
              "      <td>370 Railway Parade, Carlton NSW 2216</td>\n",
              "      <td>E10</td>\n",
              "      <td>2024-01-03 21:22:36</td>\n",
              "      <td>Carlton</td>\n",
              "      <td>2216</td>\n",
              "      <td>Independent</td>\n",
              "      <td>181.9</td>\n",
              "    </tr>\n",
              "    <tr>\n",
              "      <th>2</th>\n",
              "      <td>7 Express Carlton</td>\n",
              "      <td>370 Railway Parade, Carlton NSW 2216</td>\n",
              "      <td>E10</td>\n",
              "      <td>2024-01-05 11:31:42</td>\n",
              "      <td>Carlton</td>\n",
              "      <td>2216</td>\n",
              "      <td>Independent</td>\n",
              "      <td>179.9</td>\n",
              "    </tr>\n",
              "    <tr>\n",
              "      <th>3</th>\n",
              "      <td>7 Express Carlton</td>\n",
              "      <td>370 Railway Parade, Carlton NSW 2216</td>\n",
              "      <td>E10</td>\n",
              "      <td>2024-01-06 10:01:50</td>\n",
              "      <td>Carlton</td>\n",
              "      <td>2216</td>\n",
              "      <td>Independent</td>\n",
              "      <td>177.9</td>\n",
              "    </tr>\n",
              "    <tr>\n",
              "      <th>4</th>\n",
              "      <td>7 Express Carlton</td>\n",
              "      <td>370 Railway Parade, Carlton NSW 2216</td>\n",
              "      <td>E10</td>\n",
              "      <td>2024-01-08 11:46:24</td>\n",
              "      <td>Carlton</td>\n",
              "      <td>2216</td>\n",
              "      <td>Independent</td>\n",
              "      <td>174.9</td>\n",
              "    </tr>\n",
              "  </tbody>\n",
              "</table>\n",
              "</div>\n",
              "    <div class=\"colab-df-buttons\">\n",
              "\n",
              "  <div class=\"colab-df-container\">\n",
              "    <button class=\"colab-df-convert\" onclick=\"convertToInteractive('df-18b864ec-8558-4917-a5ab-754321742546')\"\n",
              "            title=\"Convert this dataframe to an interactive table.\"\n",
              "            style=\"display:none;\">\n",
              "\n",
              "  <svg xmlns=\"http://www.w3.org/2000/svg\" height=\"24px\" viewBox=\"0 -960 960 960\">\n",
              "    <path d=\"M120-120v-720h720v720H120Zm60-500h600v-160H180v160Zm220 220h160v-160H400v160Zm0 220h160v-160H400v160ZM180-400h160v-160H180v160Zm440 0h160v-160H620v160ZM180-180h160v-160H180v160Zm440 0h160v-160H620v160Z\"/>\n",
              "  </svg>\n",
              "    </button>\n",
              "\n",
              "  <style>\n",
              "    .colab-df-container {\n",
              "      display:flex;\n",
              "      gap: 12px;\n",
              "    }\n",
              "\n",
              "    .colab-df-convert {\n",
              "      background-color: #E8F0FE;\n",
              "      border: none;\n",
              "      border-radius: 50%;\n",
              "      cursor: pointer;\n",
              "      display: none;\n",
              "      fill: #1967D2;\n",
              "      height: 32px;\n",
              "      padding: 0 0 0 0;\n",
              "      width: 32px;\n",
              "    }\n",
              "\n",
              "    .colab-df-convert:hover {\n",
              "      background-color: #E2EBFA;\n",
              "      box-shadow: 0px 1px 2px rgba(60, 64, 67, 0.3), 0px 1px 3px 1px rgba(60, 64, 67, 0.15);\n",
              "      fill: #174EA6;\n",
              "    }\n",
              "\n",
              "    .colab-df-buttons div {\n",
              "      margin-bottom: 4px;\n",
              "    }\n",
              "\n",
              "    [theme=dark] .colab-df-convert {\n",
              "      background-color: #3B4455;\n",
              "      fill: #D2E3FC;\n",
              "    }\n",
              "\n",
              "    [theme=dark] .colab-df-convert:hover {\n",
              "      background-color: #434B5C;\n",
              "      box-shadow: 0px 1px 3px 1px rgba(0, 0, 0, 0.15);\n",
              "      filter: drop-shadow(0px 1px 2px rgba(0, 0, 0, 0.3));\n",
              "      fill: #FFFFFF;\n",
              "    }\n",
              "  </style>\n",
              "\n",
              "    <script>\n",
              "      const buttonEl =\n",
              "        document.querySelector('#df-18b864ec-8558-4917-a5ab-754321742546 button.colab-df-convert');\n",
              "      buttonEl.style.display =\n",
              "        google.colab.kernel.accessAllowed ? 'block' : 'none';\n",
              "\n",
              "      async function convertToInteractive(key) {\n",
              "        const element = document.querySelector('#df-18b864ec-8558-4917-a5ab-754321742546');\n",
              "        const dataTable =\n",
              "          await google.colab.kernel.invokeFunction('convertToInteractive',\n",
              "                                                    [key], {});\n",
              "        if (!dataTable) return;\n",
              "\n",
              "        const docLinkHtml = 'Like what you see? Visit the ' +\n",
              "          '<a target=\"_blank\" href=https://colab.research.google.com/notebooks/data_table.ipynb>data table notebook</a>'\n",
              "          + ' to learn more about interactive tables.';\n",
              "        element.innerHTML = '';\n",
              "        dataTable['output_type'] = 'display_data';\n",
              "        await google.colab.output.renderOutput(dataTable, element);\n",
              "        const docLink = document.createElement('div');\n",
              "        docLink.innerHTML = docLinkHtml;\n",
              "        element.appendChild(docLink);\n",
              "      }\n",
              "    </script>\n",
              "  </div>\n",
              "\n",
              "\n",
              "<div id=\"df-219ed346-c6c6-416c-94dc-130da8548b03\">\n",
              "  <button class=\"colab-df-quickchart\" onclick=\"quickchart('df-219ed346-c6c6-416c-94dc-130da8548b03')\"\n",
              "            title=\"Suggest charts\"\n",
              "            style=\"display:none;\">\n",
              "\n",
              "<svg xmlns=\"http://www.w3.org/2000/svg\" height=\"24px\"viewBox=\"0 0 24 24\"\n",
              "     width=\"24px\">\n",
              "    <g>\n",
              "        <path d=\"M19 3H5c-1.1 0-2 .9-2 2v14c0 1.1.9 2 2 2h14c1.1 0 2-.9 2-2V5c0-1.1-.9-2-2-2zM9 17H7v-7h2v7zm4 0h-2V7h2v10zm4 0h-2v-4h2v4z\"/>\n",
              "    </g>\n",
              "</svg>\n",
              "  </button>\n",
              "\n",
              "<style>\n",
              "  .colab-df-quickchart {\n",
              "      --bg-color: #E8F0FE;\n",
              "      --fill-color: #1967D2;\n",
              "      --hover-bg-color: #E2EBFA;\n",
              "      --hover-fill-color: #174EA6;\n",
              "      --disabled-fill-color: #AAA;\n",
              "      --disabled-bg-color: #DDD;\n",
              "  }\n",
              "\n",
              "  [theme=dark] .colab-df-quickchart {\n",
              "      --bg-color: #3B4455;\n",
              "      --fill-color: #D2E3FC;\n",
              "      --hover-bg-color: #434B5C;\n",
              "      --hover-fill-color: #FFFFFF;\n",
              "      --disabled-bg-color: #3B4455;\n",
              "      --disabled-fill-color: #666;\n",
              "  }\n",
              "\n",
              "  .colab-df-quickchart {\n",
              "    background-color: var(--bg-color);\n",
              "    border: none;\n",
              "    border-radius: 50%;\n",
              "    cursor: pointer;\n",
              "    display: none;\n",
              "    fill: var(--fill-color);\n",
              "    height: 32px;\n",
              "    padding: 0;\n",
              "    width: 32px;\n",
              "  }\n",
              "\n",
              "  .colab-df-quickchart:hover {\n",
              "    background-color: var(--hover-bg-color);\n",
              "    box-shadow: 0 1px 2px rgba(60, 64, 67, 0.3), 0 1px 3px 1px rgba(60, 64, 67, 0.15);\n",
              "    fill: var(--button-hover-fill-color);\n",
              "  }\n",
              "\n",
              "  .colab-df-quickchart-complete:disabled,\n",
              "  .colab-df-quickchart-complete:disabled:hover {\n",
              "    background-color: var(--disabled-bg-color);\n",
              "    fill: var(--disabled-fill-color);\n",
              "    box-shadow: none;\n",
              "  }\n",
              "\n",
              "  .colab-df-spinner {\n",
              "    border: 2px solid var(--fill-color);\n",
              "    border-color: transparent;\n",
              "    border-bottom-color: var(--fill-color);\n",
              "    animation:\n",
              "      spin 1s steps(1) infinite;\n",
              "  }\n",
              "\n",
              "  @keyframes spin {\n",
              "    0% {\n",
              "      border-color: transparent;\n",
              "      border-bottom-color: var(--fill-color);\n",
              "      border-left-color: var(--fill-color);\n",
              "    }\n",
              "    20% {\n",
              "      border-color: transparent;\n",
              "      border-left-color: var(--fill-color);\n",
              "      border-top-color: var(--fill-color);\n",
              "    }\n",
              "    30% {\n",
              "      border-color: transparent;\n",
              "      border-left-color: var(--fill-color);\n",
              "      border-top-color: var(--fill-color);\n",
              "      border-right-color: var(--fill-color);\n",
              "    }\n",
              "    40% {\n",
              "      border-color: transparent;\n",
              "      border-right-color: var(--fill-color);\n",
              "      border-top-color: var(--fill-color);\n",
              "    }\n",
              "    60% {\n",
              "      border-color: transparent;\n",
              "      border-right-color: var(--fill-color);\n",
              "    }\n",
              "    80% {\n",
              "      border-color: transparent;\n",
              "      border-right-color: var(--fill-color);\n",
              "      border-bottom-color: var(--fill-color);\n",
              "    }\n",
              "    90% {\n",
              "      border-color: transparent;\n",
              "      border-bottom-color: var(--fill-color);\n",
              "    }\n",
              "  }\n",
              "</style>\n",
              "\n",
              "  <script>\n",
              "    async function quickchart(key) {\n",
              "      const quickchartButtonEl =\n",
              "        document.querySelector('#' + key + ' button');\n",
              "      quickchartButtonEl.disabled = true;  // To prevent multiple clicks.\n",
              "      quickchartButtonEl.classList.add('colab-df-spinner');\n",
              "      try {\n",
              "        const charts = await google.colab.kernel.invokeFunction(\n",
              "            'suggestCharts', [key], {});\n",
              "      } catch (error) {\n",
              "        console.error('Error during call to suggestCharts:', error);\n",
              "      }\n",
              "      quickchartButtonEl.classList.remove('colab-df-spinner');\n",
              "      quickchartButtonEl.classList.add('colab-df-quickchart-complete');\n",
              "    }\n",
              "    (() => {\n",
              "      let quickchartButtonEl =\n",
              "        document.querySelector('#df-219ed346-c6c6-416c-94dc-130da8548b03 button');\n",
              "      quickchartButtonEl.style.display =\n",
              "        google.colab.kernel.accessAllowed ? 'block' : 'none';\n",
              "    })();\n",
              "  </script>\n",
              "</div>\n",
              "\n",
              "    </div>\n",
              "  </div>\n"
            ],
            "application/vnd.google.colaboratory.intrinsic+json": {
              "type": "dataframe",
              "variable_name": "final_df"
            }
          },
          "metadata": {},
          "execution_count": 22
        }
      ]
    },
    {
      "cell_type": "code",
      "source": [
        "# Convert date column\n",
        "final_df['PriceUpdatedDate'] = pd.to_datetime(final_df['PriceUpdatedDate'])"
      ],
      "metadata": {
        "id": "wiTcHp0CCdOU"
      },
      "execution_count": 23,
      "outputs": []
    },
    {
      "cell_type": "markdown",
      "source": [
        "4. Anomaly Analysis"
      ],
      "metadata": {
        "id": "9KH3NNzPAAmW"
      }
    },
    {
      "cell_type": "markdown",
      "source": [
        "4.1 Price Anomaly"
      ],
      "metadata": {
        "id": "5lNtxsb8DhR5"
      }
    },
    {
      "cell_type": "code",
      "source": [
        "from scipy.stats import zscore\n",
        "\n",
        "# Calculate z-score for the Price column\n",
        "final_df['z_score'] = zscore(final_df['Price'])\n",
        "\n",
        "# Flag anomalies (e.g., prices more than 3 standard deviations from the mean)\n",
        "price_anomalies = final_df[(final_df['z_score'] > 3) | (final_df['z_score'] < -3)]\n",
        "print(price_anomalies[['ServiceStationName', 'FuelCode', 'Price', 'z_score']])\n"
      ],
      "metadata": {
        "id": "FS-YPlBQ__7P",
        "colab": {
          "base_uri": "https://localhost:8080/"
        },
        "outputId": "7797f375-d8ed-48e0-f3a6-28a279b389da"
      },
      "execution_count": 24,
      "outputs": [
        {
          "output_type": "stream",
          "name": "stdout",
          "text": [
            "         ServiceStationName FuelCode  Price   z_score\n",
            "1414     7-Eleven Adamstown      LPG   99.8 -4.867763\n",
            "1415     7-Eleven Adamstown      LPG   99.9 -4.862715\n",
            "1416     7-Eleven Adamstown      LPG   99.9 -4.862715\n",
            "1417     7-Eleven Adamstown      LPG   99.9 -4.862715\n",
            "1418     7-Eleven Adamstown      LPG   99.9 -4.862715\n",
            "...                     ...      ...    ...       ...\n",
            "1123236    Werrington South      P98  256.9  3.062547\n",
            "1123254    Werrington South      P98  256.9  3.062547\n",
            "1124256  Westside Adamstown      U91  273.9  3.920696\n",
            "1128193    shell long jetty      P98  285.9  4.526449\n",
            "1128194    shell long jetty      P98  288.9  4.677887\n",
            "\n",
            "[4368 rows x 4 columns]\n"
          ]
        }
      ]
    },
    {
      "cell_type": "code",
      "source": [
        "plt.figure(figsize=(10, 6))\n",
        "sns.boxplot(data=final_df, x='Brand', y='Price')\n",
        "sns.scatterplot(data=price_anomalies, x='Brand', y='Price', color='red', label='Anomalies', zorder=10)\n",
        "plt.title('Price Distribution by Brand with Anomalies')\n",
        "plt.xticks(rotation=45)\n",
        "plt.tight_layout()\n",
        "plt.show()\n"
      ],
      "metadata": {
        "colab": {
          "base_uri": "https://localhost:8080/",
          "height": 228
        },
        "id": "QdNYaisIEWWT",
        "outputId": "86630ff2-f411-4a51-a123-48e61b0d7320"
      },
      "execution_count": 25,
      "outputs": [
        {
          "output_type": "error",
          "ename": "NameError",
          "evalue": "name 'plt' is not defined",
          "traceback": [
            "\u001b[0;31m---------------------------------------------------------------------------\u001b[0m",
            "\u001b[0;31mNameError\u001b[0m                                 Traceback (most recent call last)",
            "\u001b[0;32m<ipython-input-25-70756dc2d872>\u001b[0m in \u001b[0;36m<cell line: 0>\u001b[0;34m()\u001b[0m\n\u001b[0;32m----> 1\u001b[0;31m \u001b[0mplt\u001b[0m\u001b[0;34m.\u001b[0m\u001b[0mfigure\u001b[0m\u001b[0;34m(\u001b[0m\u001b[0mfigsize\u001b[0m\u001b[0;34m=\u001b[0m\u001b[0;34m(\u001b[0m\u001b[0;36m10\u001b[0m\u001b[0;34m,\u001b[0m \u001b[0;36m6\u001b[0m\u001b[0;34m)\u001b[0m\u001b[0;34m)\u001b[0m\u001b[0;34m\u001b[0m\u001b[0;34m\u001b[0m\u001b[0m\n\u001b[0m\u001b[1;32m      2\u001b[0m \u001b[0msns\u001b[0m\u001b[0;34m.\u001b[0m\u001b[0mboxplot\u001b[0m\u001b[0;34m(\u001b[0m\u001b[0mdata\u001b[0m\u001b[0;34m=\u001b[0m\u001b[0mfinal_df\u001b[0m\u001b[0;34m,\u001b[0m \u001b[0mx\u001b[0m\u001b[0;34m=\u001b[0m\u001b[0;34m'Brand'\u001b[0m\u001b[0;34m,\u001b[0m \u001b[0my\u001b[0m\u001b[0;34m=\u001b[0m\u001b[0;34m'Price'\u001b[0m\u001b[0;34m)\u001b[0m\u001b[0;34m\u001b[0m\u001b[0;34m\u001b[0m\u001b[0m\n\u001b[1;32m      3\u001b[0m \u001b[0msns\u001b[0m\u001b[0;34m.\u001b[0m\u001b[0mscatterplot\u001b[0m\u001b[0;34m(\u001b[0m\u001b[0mdata\u001b[0m\u001b[0;34m=\u001b[0m\u001b[0mprice_anomalies\u001b[0m\u001b[0;34m,\u001b[0m \u001b[0mx\u001b[0m\u001b[0;34m=\u001b[0m\u001b[0;34m'Brand'\u001b[0m\u001b[0;34m,\u001b[0m \u001b[0my\u001b[0m\u001b[0;34m=\u001b[0m\u001b[0;34m'Price'\u001b[0m\u001b[0;34m,\u001b[0m \u001b[0mcolor\u001b[0m\u001b[0;34m=\u001b[0m\u001b[0;34m'red'\u001b[0m\u001b[0;34m,\u001b[0m \u001b[0mlabel\u001b[0m\u001b[0;34m=\u001b[0m\u001b[0;34m'Anomalies'\u001b[0m\u001b[0;34m,\u001b[0m \u001b[0mzorder\u001b[0m\u001b[0;34m=\u001b[0m\u001b[0;36m10\u001b[0m\u001b[0;34m)\u001b[0m\u001b[0;34m\u001b[0m\u001b[0;34m\u001b[0m\u001b[0m\n\u001b[1;32m      4\u001b[0m \u001b[0mplt\u001b[0m\u001b[0;34m.\u001b[0m\u001b[0mtitle\u001b[0m\u001b[0;34m(\u001b[0m\u001b[0;34m'Price Distribution by Brand with Anomalies'\u001b[0m\u001b[0;34m)\u001b[0m\u001b[0;34m\u001b[0m\u001b[0;34m\u001b[0m\u001b[0m\n\u001b[1;32m      5\u001b[0m \u001b[0mplt\u001b[0m\u001b[0;34m.\u001b[0m\u001b[0mxticks\u001b[0m\u001b[0;34m(\u001b[0m\u001b[0mrotation\u001b[0m\u001b[0;34m=\u001b[0m\u001b[0;36m45\u001b[0m\u001b[0;34m)\u001b[0m\u001b[0;34m\u001b[0m\u001b[0;34m\u001b[0m\u001b[0m\n",
            "\u001b[0;31mNameError\u001b[0m: name 'plt' is not defined"
          ]
        }
      ]
    },
    {
      "cell_type": "code",
      "source": [
        "final_df['Is_Anomaly'] = final_df['z_score'].abs() > 3\n"
      ],
      "metadata": {
        "id": "038omJpeGc0H"
      },
      "execution_count": null,
      "outputs": []
    },
    {
      "cell_type": "code",
      "source": [
        "import seaborn as sns\n",
        "import matplotlib.pyplot as plt\n",
        "\n",
        "plt.figure(figsize=(14,6))\n",
        "sns.boxplot(data=final_df, x='Brand', y='Price')\n",
        "plt.title('Fuel Price Distribution by Brand (Anomalies Included)')\n",
        "plt.xticks(rotation=45)\n",
        "plt.show()\n"
      ],
      "metadata": {
        "id": "nsdlTvS4Geeh"
      },
      "execution_count": null,
      "outputs": []
    },
    {
      "cell_type": "markdown",
      "source": [
        "4.2 Sudden Price Jumps (Time Based)"
      ],
      "metadata": {
        "id": "susp5DgkHDP1"
      }
    },
    {
      "cell_type": "code",
      "source": [
        "# First, sort by station and time\n",
        "final_df = final_df.sort_values(by=['ServiceStationName', 'FuelCode', 'PriceUpdatedDate'])\n",
        "\n",
        "# Calculate percentage change in price for each station and fuel type\n",
        "final_df['Price_Pct_Change'] = final_df.groupby(['ServiceStationName', 'FuelCode'])['Price'].pct_change() * 100\n",
        "\n",
        "# Flag rows where price increased or decreased by more than 10%\n",
        "sudden_jumps = final_df[final_df['Price_Pct_Change'].abs() > 50]\n",
        "\n",
        "# Display result\n",
        "print(sudden_jumps[['ServiceStationName', 'FuelCode', 'PriceUpdatedDate', 'Price', 'Price_Pct_Change']])\n"
      ],
      "metadata": {
        "id": "UT3EENKlHGOn"
      },
      "execution_count": null,
      "outputs": []
    },
    {
      "cell_type": "code",
      "source": [
        "# Optional: Focus on a specific fuel type or brand for clarity (e.g., U91)\n",
        "fuel_type = 'U91'\n",
        "subset_df = final_df[final_df['FuelCode'] == fuel_type]\n",
        "\n",
        "# Plot\n",
        "plt.figure(figsize=(15, 6))\n",
        "sns.lineplot(\n",
        "    data=subset_df,\n",
        "    x='PriceUpdatedDate',\n",
        "    y='Price',\n",
        "    hue='ServiceStationName',\n",
        "    legend=False,\n",
        "    alpha=0.3\n",
        ")\n",
        "\n",
        "# Overlay anomalies\n",
        "anomalies = subset_df[subset_df['Price_Pct_Change'].abs() > 50]\n",
        "sns.scatterplot(\n",
        "    data=anomalies,\n",
        "    x='PriceUpdatedDate',\n",
        "    y='Price',\n",
        "    color='red',\n",
        "    s=40,\n",
        "    label='>50% Change'\n",
        ")\n",
        "\n",
        "plt.title(f'Fuel Price Over Time (FuelCode: {fuel_type}) with >50% Jumps/Drops Highlighted')\n",
        "plt.xlabel('Date')\n",
        "plt.ylabel('Price (cents)')\n",
        "plt.xticks(rotation=45)\n",
        "plt.tight_layout()\n",
        "plt.legend()\n",
        "plt.show()"
      ],
      "metadata": {
        "id": "04gSRroBIQRo"
      },
      "execution_count": null,
      "outputs": []
    },
    {
      "cell_type": "code",
      "source": [
        "# Filter only rows with >10% price change\n",
        "sudden_jumps = final_df[final_df['Price_Pct_Change'].abs() > 50].copy()\n",
        "\n",
        "# Create a short label for clarity\n",
        "sudden_jumps['Label'] = sudden_jumps['ServiceStationName'] + \" | \" + sudden_jumps['PriceUpdatedDate'].dt.strftime('%Y-%m-%d')\n",
        "\n",
        "# Sort by absolute % change\n",
        "sudden_jumps = sudden_jumps.sort_values(by='Price_Pct_Change', ascending=False).head(30)  # Limit to top 30 for readability\n",
        "\n",
        "plt.figure(figsize=(14, 8))\n",
        "sns.barplot(\n",
        "    data=sudden_jumps,\n",
        "    y='Label',\n",
        "    x='Price_Pct_Change',\n",
        "    hue='Brand',\n",
        "    dodge=False,\n",
        "    palette='coolwarm'\n",
        ")\n",
        "plt.axvline(x=0, color='gray', linestyle='--')\n",
        "plt.title('Top 30 Sudden Fuel Price Jumps/Drops (>50%)')\n",
        "plt.xlabel('Price % Change')\n",
        "plt.ylabel('Station | Date')\n",
        "plt.tight_layout()\n",
        "plt.legend(title='Brand')\n",
        "plt.show()\n"
      ],
      "metadata": {
        "id": "lAxpuw-YJcqr"
      },
      "execution_count": null,
      "outputs": []
    },
    {
      "cell_type": "code",
      "source": [
        "import pandas as pd\n",
        "\n",
        "# Step 1: Calculate the frequency of updates for each station\n",
        "update_counts = final_df.groupby('ServiceStationName')['PriceUpdatedDate'].nunique()\n",
        "\n",
        "# Step 2: Calculate mean and std of the update frequencies\n",
        "mean_updates = update_counts.mean()\n",
        "std_updates = update_counts.std()\n",
        "\n",
        "# Step 3: Flag stations with unusually high or low update frequencies\n",
        "high_frequency_stations = update_counts[update_counts > mean_updates + 2 * std_updates]\n",
        "low_frequency_stations = update_counts[update_counts < mean_updates - 2 * std_updates]\n",
        "\n",
        "# Combine results\n",
        "unusual_frequency_stations = pd.concat([high_frequency_stations, low_frequency_stations])\n",
        "\n",
        "# Display the stations with unusual update frequencies\n",
        "print(\"Stations with unusually high or low update frequencies:\")\n",
        "print(unusual_frequency_stations)\n",
        "\n",
        "# Optional: Display stations with high update frequencies\n",
        "print(\"\\nStations with unusually high update frequencies:\")\n",
        "print(high_frequency_stations)\n",
        "\n",
        "# Optional: Display stations with low update frequencies\n",
        "print(\"\\nStations with unusually low update frequencies:\")\n",
        "print(low_frequency_stations)\n"
      ],
      "metadata": {
        "id": "0QY-W_kgKVs_"
      },
      "execution_count": null,
      "outputs": []
    }
  ]
}